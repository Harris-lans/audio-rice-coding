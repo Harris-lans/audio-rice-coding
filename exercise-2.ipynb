{
 "cells": [
  {
   "cell_type": "markdown",
   "metadata": {},
   "source": [
    "# Exercise 2\n",
    "\n",
    "## Overview\n",
    "\n",
    "## Implementation\n",
    "\n",
    "### Install Dependencies"
   ]
  },
  {
   "cell_type": "code",
   "execution_count": 11,
   "metadata": {},
   "outputs": [
    {
     "name": "stdout",
     "output_type": "stream",
     "text": [
      "Requirement already satisfied: numpy in /Users/harish/opt/anaconda3/envs/intelligent-signal-processing/lib/python3.11/site-packages (1.24.3)\n",
      "Requirement already satisfied: wave in /Users/harish/opt/anaconda3/envs/intelligent-signal-processing/lib/python3.11/site-packages (0.0.2)\n",
      "Note: you may need to restart the kernel to use updated packages.\n"
     ]
    }
   ],
   "source": [
    "%pip install wave"
   ]
  },
  {
   "cell_type": "markdown",
   "metadata": {},
   "source": [
    "### Application"
   ]
  },
  {
   "cell_type": "code",
   "execution_count": 1,
   "metadata": {},
   "outputs": [],
   "source": [
    "def unary_encode(n: int) -> str:\n",
    "    return '1' * n + '0'\n",
    "\n",
    "def binary_encode(n: int, k: int) -> str:\n",
    "    return format(n, '0{}b'.format(k))\n",
    "\n",
    "def rice_encode(value:int, k: int) -> str:\n",
    "    modulus = 2**k\n",
    "    \n",
    "    quotient = value // modulus\n",
    "    remainder = value % modulus\n",
    "\n",
    "    quotient_code = unary_encode(quotient)\n",
    "    remainder_code = binary_encode(remainder, k)\n",
    "    rice_code = quotient_code + remainder_code\n",
    "\n",
    "    return rice_code"
   ]
  },
  {
   "cell_type": "code",
   "execution_count": 2,
   "metadata": {},
   "outputs": [],
   "source": [
    "def unary_decode(code: str) -> int:\n",
    "    return code.count('1')\n",
    "\n",
    "def binary_decode(code: int) -> int:\n",
    "    return int(code, 2)\n",
    "\n",
    "def rice_decode(value:str, k: int) -> int:\n",
    "    modulus = 2**k\n",
    "\n",
    "    first_0_index = len(value) - 1\n",
    "    for index, char in enumerate(value):\n",
    "        if char == '0':\n",
    "            first_0_index = index\n",
    "            break\n",
    "\n",
    "    quotient_code = value[:first_0_index]\n",
    "    remainder_code = value[first_0_index:]\n",
    "\n",
    "    quotient = unary_decode(quotient_code)\n",
    "    remainder = binary_decode(remainder_code)\n",
    "    number = quotient * modulus + remainder\n",
    "\n",
    "    return number"
   ]
  },
  {
   "cell_type": "code",
   "execution_count": 135,
   "metadata": {},
   "outputs": [],
   "source": [
    "def read_file_as_byte_array(file_path: str):\n",
    "    with open(file_path, 'rb') as file:\n",
    "        byte_array = file.read()\n",
    "    return byte_array\n",
    "\n",
    "def byte_to_bit_string(byte):\n",
    "    # Converting byte to bit string and ensuring there are 8 digits\n",
    "    bit_string = bin(byte)[2:].zfill(8)\n",
    "    \n",
    "    return bit_string\n",
    "\n",
    "def rice_encode_audio_file(input_audio_file_path: str, output_audio_file_path: str, k: int):\n",
    "    # Load the audio file\n",
    "    audio_buffer = read_file_as_byte_array(input_audio_file_path)\n",
    "\n",
    "    # Encoding bytes\n",
    "    encoded_bit_strings = [ rice_encode(byte, k) for byte in audio_buffer ]\n",
    "    # Separate bits into groups of 8 for bytes\n",
    "    encoded_bit_string = \"\".join(encoded_bit_strings)\n",
    "    encoded_byte_bit_strings = [ encoded_bit_string[i : i+8] for i in range(0, len(encoded_bit_string), 8) ]\n",
    "    last_bit_string_padding_size = 8 - len(encoded_byte_bit_strings[-1])\n",
    "    \n",
    "    # Convert the binary string to bytes\n",
    "    i, encoded_audio_buffer = 0, bytearray()\n",
    "    # Adding the number of 0s added for padding to the beginning of the last encoded bit string\n",
    "    encoded_audio_buffer.append(last_bit_string_padding_size)\n",
    "    # Converting bits to bytes\n",
    "    for bit_string in encoded_byte_bit_strings:\n",
    "        byte = int(bit_string, 2)\n",
    "        encoded_audio_buffer.append(byte)\n",
    "\n",
    "    # Writing encoded audio samples to output file\n",
    "    with open(output_audio_file_path, 'wb') as output_file:\n",
    "        output_file.write(encoded_audio_buffer)\n",
    "\n",
    "def rice_decode_audio_file(input_audio_file_path: str, output_audio_file_path: str, k: int):\n",
    "    # Load the encoded file\n",
    "    encoded_buffer = read_file_as_byte_array(input_audio_file_path)\n",
    "    # Extracting the first byte that contains the number of padding zeroes in the last \n",
    "    padding_size = encoded_buffer[0]\n",
    "\n",
    "    # Converting byte array into bit strings\n",
    "    encoded_bit_strings = [ byte_to_bit_string(byte, False) for byte in encoded_buffer[1:] ]\n",
    "    # Removing any zeroes used as padding in the last byte\n",
    "    encoded_bit_strings[-1] = encoded_bit_strings[-1][padding_size:]\n",
    "    encoded_bit_string = ''.join(encoded_bit_strings)\n",
    "\n",
    "    i, decoded_buffer = 0, bytearray()\n",
    "    encoded_byte_start = 0\n",
    "    \n",
    "    while i < len(encoded_bit_string):\n",
    "        if encoded_bit_string[i] == '0':\n",
    "            encoded_byte_end = i + k + 1\n",
    "            decoded_byte = rice_decode(encoded_bit_string[encoded_byte_start : encoded_byte_end], k)\n",
    "            decoded_buffer.append(decoded_byte)\n",
    "            \n",
    "            i = encoded_byte_end\n",
    "            encoded_byte_start = i\n",
    "        else:\n",
    "            i += 1\n",
    "\n",
    "    # Writing encoded audio samples to output file\n",
    "    with open(output_audio_file_path, 'wb') as output_file:\n",
    "        output_file.write(decoded_buffer)"
   ]
  },
  {
   "cell_type": "code",
   "execution_count": 133,
   "metadata": {},
   "outputs": [
    {
     "name": "stdout",
     "output_type": "stream",
     "text": [
      "last_bit_string_padding_size=1\n"
     ]
    }
   ],
   "source": [
    "# Encoding both the audio files with two k values\n",
    "rice_encode_audio_file('./files/Sound1.wav', './output/Sound1_Enc_K_2.ex2', k = 2)\n",
    "# rice_encode_audio_file('./files/Sound1.wav', './output/Sound1_Enc_K_4.ex2', k = 4)\n",
    "# rice_encode_audio_file('./files/Sound2.wav', './output/Sound2_Enc_K_2.ex2', k = 2)\n",
    "# rice_encode_audio_file('./files/Sound2.wav', './output/Sound2_Enc_K_4.ex2', k = 4)"
   ]
  },
  {
   "cell_type": "code",
   "execution_count": 136,
   "metadata": {},
   "outputs": [],
   "source": [
    "rice_decode_audio_file('./Sound1_Enc_K_2.ex2', './Sound1_Enc_Dec_K_2.wav', k = 2)"
   ]
  }
 ],
 "metadata": {
  "kernelspec": {
   "display_name": "intelligent-signal-processing",
   "language": "python",
   "name": "python3"
  },
  "language_info": {
   "codemirror_mode": {
    "name": "ipython",
    "version": 3
   },
   "file_extension": ".py",
   "mimetype": "text/x-python",
   "name": "python",
   "nbconvert_exporter": "python",
   "pygments_lexer": "ipython3",
   "version": "3.11.4"
  },
  "orig_nbformat": 4
 },
 "nbformat": 4,
 "nbformat_minor": 2
}
